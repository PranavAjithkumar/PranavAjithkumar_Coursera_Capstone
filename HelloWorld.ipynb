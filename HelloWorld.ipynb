{
  "nbformat": 4,
  "nbformat_minor": 0,
  "metadata": {
    "colab": {
      "name": "HelloWorld.ipynb",
      "provenance": [],
      "authorship_tag": "ABX9TyMNharX+aGGLjlNEQs90gCK",
      "include_colab_link": true
    },
    "kernelspec": {
      "name": "python3",
      "display_name": "Python 3"
    }
  },
  "cells": [
    {
      "cell_type": "markdown",
      "metadata": {
        "id": "view-in-github",
        "colab_type": "text"
      },
      "source": [
        "<a href=\"https://colab.research.google.com/github/PranavAjithkumar/PranavAjithkumar_Coursera_Capstone/blob/master/HelloWorld.ipynb\" target=\"_parent\"><img src=\"https://colab.research.google.com/assets/colab-badge.svg\" alt=\"Open In Colab\"/></a>"
      ]
    },
    {
      "cell_type": "markdown",
      "metadata": {
        "id": "A_2Or52ukibY",
        "colab_type": "text"
      },
      "source": [
        "This notebook will be mainly used for Pranav Ajithkumar's Coursera Capstone project."
      ]
    },
    {
      "cell_type": "code",
      "metadata": {
        "id": "9ERc8VIbk0ZK",
        "colab_type": "code",
        "colab": {
          "base_uri": "https://localhost:8080/",
          "height": 34
        },
        "outputId": "2ad4f09a-4ef0-4029-a9e7-6a21d3b60c8a"
      },
      "source": [
        "import pandas as pd\n",
        "import numpy as np\n",
        "print('Hello World!')\n"
      ],
      "execution_count": 2,
      "outputs": [
        {
          "output_type": "stream",
          "text": [
            "Hello World!\n"
          ],
          "name": "stdout"
        }
      ]
    }
  ]
}